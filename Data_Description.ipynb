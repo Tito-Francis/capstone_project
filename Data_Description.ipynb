{
    "cells": [
        {
            "cell_type": "markdown",
            "metadata": {
                "collapsed": true
            },
            "source": "# Data Description:"
        },
        {
            "cell_type": "markdown",
            "metadata": {},
            "source": "<h4>To consider the objective stated above, we can list the below data sources used for the analysis.\n\n\na) <b>Coordinate data</b> for each Neighborhood in New York NYC: The following csv file gave us the geographical coordinates of each postal code:  http://cocl.us/Geospatial_data\n            \nb) Utilizing <b>Foursquare API</b> to explore the neighborhoods<"
        }
    ],
    "metadata": {
        "kernelspec": {
            "display_name": "Python 3.6",
            "language": "python",
            "name": "python3"
        },
        "language_info": {
            "codemirror_mode": {
                "name": "ipython",
                "version": 3
            },
            "file_extension": ".py",
            "mimetype": "text/x-python",
            "name": "python",
            "nbconvert_exporter": "python",
            "pygments_lexer": "ipython3",
            "version": "3.6.9"
        }
    },
    "nbformat": 4,
    "nbformat_minor": 1
}