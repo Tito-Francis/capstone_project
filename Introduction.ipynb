{
    "cells": [
        {
            "cell_type": "markdown",
            "metadata": {
                "collapsed": true
            },
            "source": "# Introducton"
        },
        {
            "cell_type": "markdown",
            "metadata": {},
            "source": "# A1 Background"
        },
        {
            "cell_type": "markdown",
            "metadata": {},
            "source": "<p>New York City (NYC), often called The City or simply New York (NY), is the most populous city in the United States. With an estimated 2019 population of 8,336,817 distributed over about 302.6 square miles (784 km2), New York is also the most densely populated major city in the United States.[6] Located at the southern tip of the U.S. state of New York, the city is the center of the New York metropolitan area, the largest metropolitan area in the world by urban landmass.[10] With almost 20 million people in its metropolitan statistical area and approximately 23 million in its combined statistical area, it is one of the world's most populous megacities. New York City has been described as the cultural, financial, and media capital of the world, significantly influencing commerce,[11] entertainment, research, technology, education, politics, tourism, art, fashion, and sports. Home to the headquarters of the United Nations,[12] New York is an important center for international diplomacy.</p>"
        },
        {
            "cell_type": "markdown",
            "metadata": {},
            "source": "# A2 Problem Description"
        },
        {
            "cell_type": "markdown",
            "metadata": {},
            "source": "<p>The cuisine of New York City comprises many cuisines belonging to various ethnic groups that have entered the United States through the city. Almost all ethnic cuisines are\nwell represented in New York City, both within and outside the various ethnic neighborhoods.[1] New York City was also the founding city of New York Restaurant Week which has \nspread around the world due to the discounted prices that such a deal offers.[2] In New York City there are over 12,000 bodegas, delis and groceries and many among them are\nopen 24 hours a day, 7 days a week.</p>"
        },
        {
            "cell_type": "markdown",
            "metadata": {},
            "source": "<p>\nIf your are a restaurant owner or company wouldn,t it be great if you could find out popular cusine in New York or the least number of cuisines avaliable in a neighborhood, so you can deside on the cuisines you want in your restaurant ?</p>"
        },
        {
            "cell_type": "markdown",
            "metadata": {},
            "source": "# A3 Objective"
        },
        {
            "cell_type": "markdown",
            "metadata": {},
            "source": "<p>The aim of this report is to study and analyze the neighborhoods of NYC and group them into similar clusters and, to analyze those clusters to gather meaningful information. That information can be used to find out popular cusine in New York or the least number of cuisines avaliable in a neighborhood. </p>"
        },
        {
            "cell_type": "markdown",
            "metadata": {},
            "source": "# A4 Target Audience"
        },
        {
            "cell_type": "markdown",
            "metadata": {},
            "source": "<p>The information provided in this project is useful for people who are interseted in opening new restaurant or change their cuisines</p>"
        }
    ],
    "metadata": {
        "kernelspec": {
            "display_name": "Python 3.6",
            "language": "python",
            "name": "python3"
        },
        "language_info": {
            "codemirror_mode": {
                "name": "ipython",
                "version": 3
            },
            "file_extension": ".py",
            "mimetype": "text/x-python",
            "name": "python",
            "nbconvert_exporter": "python",
            "pygments_lexer": "ipython3",
            "version": "3.6.9"
        }
    },
    "nbformat": 4,
    "nbformat_minor": 1
}