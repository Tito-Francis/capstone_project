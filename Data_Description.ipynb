{
    "cells": [
        {
            "cell_type": "markdown",
            "metadata": {
                "collapsed": true
            },
            "source": "# Data Description:"
        },
        {
            "cell_type": "markdown",
            "metadata": {},
            "source": "Data sources below are used for the analysis.\n\n\n<b>a)</b> a dataset that contains the 5 boroughs and the neighborhoods that exist in each borough as well as the the latitude and logitude coordinates of each neighborhood https://cocl.us/new_york_dataset\n\ncontains data on New York :\n\n    boroughs\n    neighborhoods\n    latitude\n    logitude\n            \n<b>b)</b> Utilizing Foursquare API to explore the neighborhoods venus that contain cuisine of restarant\n"
        }
    ],
    "metadata": {
        "kernelspec": {
            "display_name": "Python 3.6",
            "language": "python",
            "name": "python3"
        },
        "language_info": {
            "codemirror_mode": {
                "name": "ipython",
                "version": 3
            },
            "file_extension": ".py",
            "mimetype": "text/x-python",
            "name": "python",
            "nbconvert_exporter": "python",
            "pygments_lexer": "ipython3",
            "version": "3.6.9"
        }
    },
    "nbformat": 4,
    "nbformat_minor": 1
}